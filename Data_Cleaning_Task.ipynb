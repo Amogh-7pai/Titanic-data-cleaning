{
 "cells": [
  {
   "cell_type": "markdown",
   "id": "3c76e5bb-a972-45b4-83e2-90d498b50e5b",
   "metadata": {},
   "source": [
    "# **Data Cleaning and Preprocessing**\n",
    "\n",
    "In this notebook we are going to do Data Cleaning and Preprocessing on a titanic dataset.\n",
    "\n",
    "## 1. Data Exploration\n",
    "\n",
    "Load the dataset(titanic) and check basic info and visualize distributions to understand the raw data’s structure and identify key issues (nulls, outliers, categorical variables).\n",
    "\n",
    "## 2. Handling Missing Values\n",
    "\n",
    "Detect the columns with missing values and fill numerical nulls and fill/drop categorical nulls to ensure no missing values remain that could skew ML models.\n",
    "\n",
    "## 3.Encoding Categorical Features\n",
    "\n",
    "Identify categorical columns and apply encoding to covert all categorical data to numerical formats for ML algorithms.\n",
    "\n",
    "## 4. Feature Scaling and Outliers\n",
    "\n",
    "scale numerical columns and visualize result to ensure all features are on a similar scale and outliers are addressed."
   ]
  },
  {
   "cell_type": "code",
   "execution_count": 797,
   "id": "19f11b15-80cf-4f06-8c22-3b5d66093105",
   "metadata": {},
   "outputs": [],
   "source": [
    "import pandas as pd\n",
    "import numpy as np\n",
    "import matplotlib.pyplot as plt\n",
    "import sklearn"
   ]
  },
  {
   "cell_type": "markdown",
   "id": "097cd6be-6d90-4827-8cb1-c15142c45d83",
   "metadata": {},
   "source": [
    "### 1. **Data Exploration**"
   ]
  },
  {
   "cell_type": "code",
   "execution_count": 798,
   "id": "5376a513-d4ca-4f5a-93dd-a781fb4b2cd6",
   "metadata": {},
   "outputs": [
    {
     "data": {
      "text/html": [
       "<div>\n",
       "<style scoped>\n",
       "    .dataframe tbody tr th:only-of-type {\n",
       "        vertical-align: middle;\n",
       "    }\n",
       "\n",
       "    .dataframe tbody tr th {\n",
       "        vertical-align: top;\n",
       "    }\n",
       "\n",
       "    .dataframe thead th {\n",
       "        text-align: right;\n",
       "    }\n",
       "</style>\n",
       "<table border=\"1\" class=\"dataframe\">\n",
       "  <thead>\n",
       "    <tr style=\"text-align: right;\">\n",
       "      <th></th>\n",
       "      <th>PassengerId</th>\n",
       "      <th>Survived</th>\n",
       "      <th>Pclass</th>\n",
       "      <th>Name</th>\n",
       "      <th>Sex</th>\n",
       "      <th>Age</th>\n",
       "      <th>SibSp</th>\n",
       "      <th>Parch</th>\n",
       "      <th>Ticket</th>\n",
       "      <th>Fare</th>\n",
       "      <th>Cabin</th>\n",
       "      <th>Embarked</th>\n",
       "    </tr>\n",
       "  </thead>\n",
       "  <tbody>\n",
       "    <tr>\n",
       "      <th>0</th>\n",
       "      <td>1</td>\n",
       "      <td>0</td>\n",
       "      <td>3</td>\n",
       "      <td>Braund, Mr. Owen Harris</td>\n",
       "      <td>male</td>\n",
       "      <td>22.0</td>\n",
       "      <td>1</td>\n",
       "      <td>0</td>\n",
       "      <td>A/5 21171</td>\n",
       "      <td>7.2500</td>\n",
       "      <td>NaN</td>\n",
       "      <td>S</td>\n",
       "    </tr>\n",
       "    <tr>\n",
       "      <th>1</th>\n",
       "      <td>2</td>\n",
       "      <td>1</td>\n",
       "      <td>1</td>\n",
       "      <td>Cumings, Mrs. John Bradley (Florence Briggs Th...</td>\n",
       "      <td>female</td>\n",
       "      <td>38.0</td>\n",
       "      <td>1</td>\n",
       "      <td>0</td>\n",
       "      <td>PC 17599</td>\n",
       "      <td>71.2833</td>\n",
       "      <td>C85</td>\n",
       "      <td>C</td>\n",
       "    </tr>\n",
       "    <tr>\n",
       "      <th>2</th>\n",
       "      <td>3</td>\n",
       "      <td>1</td>\n",
       "      <td>3</td>\n",
       "      <td>Heikkinen, Miss. Laina</td>\n",
       "      <td>female</td>\n",
       "      <td>26.0</td>\n",
       "      <td>0</td>\n",
       "      <td>0</td>\n",
       "      <td>STON/O2. 3101282</td>\n",
       "      <td>7.9250</td>\n",
       "      <td>NaN</td>\n",
       "      <td>S</td>\n",
       "    </tr>\n",
       "    <tr>\n",
       "      <th>3</th>\n",
       "      <td>4</td>\n",
       "      <td>1</td>\n",
       "      <td>1</td>\n",
       "      <td>Futrelle, Mrs. Jacques Heath (Lily May Peel)</td>\n",
       "      <td>female</td>\n",
       "      <td>35.0</td>\n",
       "      <td>1</td>\n",
       "      <td>0</td>\n",
       "      <td>113803</td>\n",
       "      <td>53.1000</td>\n",
       "      <td>C123</td>\n",
       "      <td>S</td>\n",
       "    </tr>\n",
       "    <tr>\n",
       "      <th>4</th>\n",
       "      <td>5</td>\n",
       "      <td>0</td>\n",
       "      <td>3</td>\n",
       "      <td>Allen, Mr. William Henry</td>\n",
       "      <td>male</td>\n",
       "      <td>35.0</td>\n",
       "      <td>0</td>\n",
       "      <td>0</td>\n",
       "      <td>373450</td>\n",
       "      <td>8.0500</td>\n",
       "      <td>NaN</td>\n",
       "      <td>S</td>\n",
       "    </tr>\n",
       "  </tbody>\n",
       "</table>\n",
       "</div>"
      ],
      "text/plain": [
       "   PassengerId  Survived  Pclass  \\\n",
       "0            1         0       3   \n",
       "1            2         1       1   \n",
       "2            3         1       3   \n",
       "3            4         1       1   \n",
       "4            5         0       3   \n",
       "\n",
       "                                                Name     Sex   Age  SibSp  \\\n",
       "0                            Braund, Mr. Owen Harris    male  22.0      1   \n",
       "1  Cumings, Mrs. John Bradley (Florence Briggs Th...  female  38.0      1   \n",
       "2                             Heikkinen, Miss. Laina  female  26.0      0   \n",
       "3       Futrelle, Mrs. Jacques Heath (Lily May Peel)  female  35.0      1   \n",
       "4                           Allen, Mr. William Henry    male  35.0      0   \n",
       "\n",
       "   Parch            Ticket     Fare Cabin Embarked  \n",
       "0      0         A/5 21171   7.2500   NaN        S  \n",
       "1      0          PC 17599  71.2833   C85        C  \n",
       "2      0  STON/O2. 3101282   7.9250   NaN        S  \n",
       "3      0            113803  53.1000  C123        S  \n",
       "4      0            373450   8.0500   NaN        S  "
      ]
     },
     "execution_count": 798,
     "metadata": {},
     "output_type": "execute_result"
    }
   ],
   "source": [
    "# Load the dataset\n",
    "df=pd.read_csv(\"data/Titanic-Dataset.csv\")\n",
    "\n",
    "# Display first 5 rows to preview data\n",
    "df.head()"
   ]
  },
  {
   "cell_type": "code",
   "execution_count": 799,
   "id": "aa2de6a3-5d14-4b56-8eff-122706cb06cd",
   "metadata": {},
   "outputs": [
    {
     "name": "stdout",
     "output_type": "stream",
     "text": [
      "<class 'pandas.core.frame.DataFrame'>\n",
      "RangeIndex: 891 entries, 0 to 890\n",
      "Data columns (total 12 columns):\n",
      " #   Column       Non-Null Count  Dtype  \n",
      "---  ------       --------------  -----  \n",
      " 0   PassengerId  891 non-null    int64  \n",
      " 1   Survived     891 non-null    int64  \n",
      " 2   Pclass       891 non-null    int64  \n",
      " 3   Name         891 non-null    object \n",
      " 4   Sex          891 non-null    object \n",
      " 5   Age          714 non-null    float64\n",
      " 6   SibSp        891 non-null    int64  \n",
      " 7   Parch        891 non-null    int64  \n",
      " 8   Ticket       891 non-null    object \n",
      " 9   Fare         891 non-null    float64\n",
      " 10  Cabin        204 non-null    object \n",
      " 11  Embarked     889 non-null    object \n",
      "dtypes: float64(2), int64(5), object(5)\n",
      "memory usage: 83.7+ KB\n"
     ]
    },
    {
     "data": {
      "text/html": [
       "<div>\n",
       "<style scoped>\n",
       "    .dataframe tbody tr th:only-of-type {\n",
       "        vertical-align: middle;\n",
       "    }\n",
       "\n",
       "    .dataframe tbody tr th {\n",
       "        vertical-align: top;\n",
       "    }\n",
       "\n",
       "    .dataframe thead th {\n",
       "        text-align: right;\n",
       "    }\n",
       "</style>\n",
       "<table border=\"1\" class=\"dataframe\">\n",
       "  <thead>\n",
       "    <tr style=\"text-align: right;\">\n",
       "      <th></th>\n",
       "      <th>PassengerId</th>\n",
       "      <th>Survived</th>\n",
       "      <th>Pclass</th>\n",
       "      <th>Age</th>\n",
       "      <th>SibSp</th>\n",
       "      <th>Parch</th>\n",
       "      <th>Fare</th>\n",
       "    </tr>\n",
       "  </thead>\n",
       "  <tbody>\n",
       "    <tr>\n",
       "      <th>count</th>\n",
       "      <td>891.000000</td>\n",
       "      <td>891.000000</td>\n",
       "      <td>891.000000</td>\n",
       "      <td>714.000000</td>\n",
       "      <td>891.000000</td>\n",
       "      <td>891.000000</td>\n",
       "      <td>891.000000</td>\n",
       "    </tr>\n",
       "    <tr>\n",
       "      <th>mean</th>\n",
       "      <td>446.000000</td>\n",
       "      <td>0.383838</td>\n",
       "      <td>2.308642</td>\n",
       "      <td>29.699118</td>\n",
       "      <td>0.523008</td>\n",
       "      <td>0.381594</td>\n",
       "      <td>32.204208</td>\n",
       "    </tr>\n",
       "    <tr>\n",
       "      <th>std</th>\n",
       "      <td>257.353842</td>\n",
       "      <td>0.486592</td>\n",
       "      <td>0.836071</td>\n",
       "      <td>14.526497</td>\n",
       "      <td>1.102743</td>\n",
       "      <td>0.806057</td>\n",
       "      <td>49.693429</td>\n",
       "    </tr>\n",
       "    <tr>\n",
       "      <th>min</th>\n",
       "      <td>1.000000</td>\n",
       "      <td>0.000000</td>\n",
       "      <td>1.000000</td>\n",
       "      <td>0.420000</td>\n",
       "      <td>0.000000</td>\n",
       "      <td>0.000000</td>\n",
       "      <td>0.000000</td>\n",
       "    </tr>\n",
       "    <tr>\n",
       "      <th>25%</th>\n",
       "      <td>223.500000</td>\n",
       "      <td>0.000000</td>\n",
       "      <td>2.000000</td>\n",
       "      <td>20.125000</td>\n",
       "      <td>0.000000</td>\n",
       "      <td>0.000000</td>\n",
       "      <td>7.910400</td>\n",
       "    </tr>\n",
       "    <tr>\n",
       "      <th>50%</th>\n",
       "      <td>446.000000</td>\n",
       "      <td>0.000000</td>\n",
       "      <td>3.000000</td>\n",
       "      <td>28.000000</td>\n",
       "      <td>0.000000</td>\n",
       "      <td>0.000000</td>\n",
       "      <td>14.454200</td>\n",
       "    </tr>\n",
       "    <tr>\n",
       "      <th>75%</th>\n",
       "      <td>668.500000</td>\n",
       "      <td>1.000000</td>\n",
       "      <td>3.000000</td>\n",
       "      <td>38.000000</td>\n",
       "      <td>1.000000</td>\n",
       "      <td>0.000000</td>\n",
       "      <td>31.000000</td>\n",
       "    </tr>\n",
       "    <tr>\n",
       "      <th>max</th>\n",
       "      <td>891.000000</td>\n",
       "      <td>1.000000</td>\n",
       "      <td>3.000000</td>\n",
       "      <td>80.000000</td>\n",
       "      <td>8.000000</td>\n",
       "      <td>6.000000</td>\n",
       "      <td>512.329200</td>\n",
       "    </tr>\n",
       "  </tbody>\n",
       "</table>\n",
       "</div>"
      ],
      "text/plain": [
       "       PassengerId    Survived      Pclass         Age       SibSp  \\\n",
       "count   891.000000  891.000000  891.000000  714.000000  891.000000   \n",
       "mean    446.000000    0.383838    2.308642   29.699118    0.523008   \n",
       "std     257.353842    0.486592    0.836071   14.526497    1.102743   \n",
       "min       1.000000    0.000000    1.000000    0.420000    0.000000   \n",
       "25%     223.500000    0.000000    2.000000   20.125000    0.000000   \n",
       "50%     446.000000    0.000000    3.000000   28.000000    0.000000   \n",
       "75%     668.500000    1.000000    3.000000   38.000000    1.000000   \n",
       "max     891.000000    1.000000    3.000000   80.000000    8.000000   \n",
       "\n",
       "            Parch        Fare  \n",
       "count  891.000000  891.000000  \n",
       "mean     0.381594   32.204208  \n",
       "std      0.806057   49.693429  \n",
       "min      0.000000    0.000000  \n",
       "25%      0.000000    7.910400  \n",
       "50%      0.000000   14.454200  \n",
       "75%      0.000000   31.000000  \n",
       "max      6.000000  512.329200  "
      ]
     },
     "execution_count": 799,
     "metadata": {},
     "output_type": "execute_result"
    }
   ],
   "source": [
    "# Check data types, non-null counts, and memory usage\n",
    "df.info()\n",
    "\n",
    "# Summary statistics for numerical columns (mean, min, max, etc.)\n",
    "df.describe()"
   ]
  },
  {
   "cell_type": "code",
   "execution_count": 800,
   "id": "de15ffe0-38ed-4cac-89dc-2c2504a441db",
   "metadata": {},
   "outputs": [
    {
     "name": "stdout",
     "output_type": "stream",
     "text": [
      "Requirement already satisfied: seaborn in c:\\users\\amogh\\desktop\\machine_learning\\internship\\env\\lib\\site-packages (0.13.2)\n",
      "Requirement already satisfied: numpy!=1.24.0,>=1.20 in c:\\users\\amogh\\appdata\\roaming\\python\\python313\\site-packages (from seaborn) (2.1.3)\n",
      "Requirement already satisfied: pandas>=1.2 in c:\\users\\amogh\\appdata\\roaming\\python\\python313\\site-packages (from seaborn) (2.3.0)\n",
      "Requirement already satisfied: matplotlib!=3.6.1,>=3.4 in c:\\users\\amogh\\appdata\\roaming\\python\\python313\\site-packages (from seaborn) (3.10.3)\n",
      "Requirement already satisfied: contourpy>=1.0.1 in c:\\users\\amogh\\appdata\\roaming\\python\\python313\\site-packages (from matplotlib!=3.6.1,>=3.4->seaborn) (1.3.2)\n",
      "Requirement already satisfied: cycler>=0.10 in c:\\users\\amogh\\appdata\\roaming\\python\\python313\\site-packages (from matplotlib!=3.6.1,>=3.4->seaborn) (0.12.1)\n",
      "Requirement already satisfied: fonttools>=4.22.0 in c:\\users\\amogh\\appdata\\roaming\\python\\python313\\site-packages (from matplotlib!=3.6.1,>=3.4->seaborn) (4.58.4)\n",
      "Requirement already satisfied: kiwisolver>=1.3.1 in c:\\users\\amogh\\appdata\\roaming\\python\\python313\\site-packages (from matplotlib!=3.6.1,>=3.4->seaborn) (1.4.8)\n",
      "Requirement already satisfied: packaging>=20.0 in c:\\users\\amogh\\appdata\\roaming\\python\\python313\\site-packages (from matplotlib!=3.6.1,>=3.4->seaborn) (25.0)\n",
      "Requirement already satisfied: pillow>=8 in c:\\users\\amogh\\appdata\\roaming\\python\\python313\\site-packages (from matplotlib!=3.6.1,>=3.4->seaborn) (11.2.1)\n",
      "Requirement already satisfied: pyparsing>=2.3.1 in c:\\users\\amogh\\appdata\\roaming\\python\\python313\\site-packages (from matplotlib!=3.6.1,>=3.4->seaborn) (3.2.3)\n",
      "Requirement already satisfied: python-dateutil>=2.7 in c:\\users\\amogh\\appdata\\roaming\\python\\python313\\site-packages (from matplotlib!=3.6.1,>=3.4->seaborn) (2.9.0.post0)\n",
      "Requirement already satisfied: pytz>=2020.1 in c:\\users\\amogh\\appdata\\roaming\\python\\python313\\site-packages (from pandas>=1.2->seaborn) (2025.2)\n",
      "Requirement already satisfied: tzdata>=2022.7 in c:\\users\\amogh\\appdata\\roaming\\python\\python313\\site-packages (from pandas>=1.2->seaborn) (2025.2)\n",
      "Requirement already satisfied: six>=1.5 in c:\\users\\amogh\\appdata\\roaming\\python\\python313\\site-packages (from python-dateutil>=2.7->matplotlib!=3.6.1,>=3.4->seaborn) (1.17.0)\n"
     ]
    }
   ],
   "source": [
    "# Installing Seaborn library\n",
    "!pip install seaborn"
   ]
  },
  {
   "cell_type": "code",
   "execution_count": 801,
   "id": "3b672b9c-4552-46b9-a316-46ebb84355a4",
   "metadata": {},
   "outputs": [
    {
     "data": {
      "text/plain": [
       "PassengerId      0\n",
       "Survived         0\n",
       "Pclass           0\n",
       "Name             0\n",
       "Sex              0\n",
       "Age            177\n",
       "SibSp            0\n",
       "Parch            0\n",
       "Ticket           0\n",
       "Fare             0\n",
       "Cabin          687\n",
       "Embarked         2\n",
       "dtype: int64"
      ]
     },
     "execution_count": 801,
     "metadata": {},
     "output_type": "execute_result"
    }
   ],
   "source": [
    "# Count missing values per column\n",
    "df.isnull().sum()"
   ]
  },
  {
   "cell_type": "code",
   "execution_count": 802,
   "id": "ce9a7b2e-e0ad-4d7c-9ed4-d47b0c4764b7",
   "metadata": {},
   "outputs": [
    {
     "data": {
      "text/plain": [
       "<Axes: >"
      ]
     },
     "execution_count": 802,
     "metadata": {},
     "output_type": "execute_result"
    },
    {
     "data": {
      "image/png": "[encoded data removed]",
      "text/plain": [
       "<Figure size 640x480 with 1 Axes>"
      ]
     },
     "metadata": {},
     "output_type": "display_data"
    }
   ],
   "source": [
    "# Visualize missing data (yellow=missing)\n",
    "import seaborn as sns\n",
    "sns.heatmap(df.isnull(), cbar=False, cmap='viridis')"
   ]
  },
  {
   "cell_type": "code",
   "execution_count": 803,
   "id": "3490e228-3f12-4042-9f30-db85dd56eba0",
   "metadata": {},
   "outputs": [
    {
     "data": {
      "image/png": "[encoded data removed]",
      "text/plain": [
       "<Figure size 640x480 with 1 Axes>"
      ]
     },
     "metadata": {},
     "output_type": "display_data"
    },
    {
     "data": {
      "image/png": "[encoded data removed]",
      "text/plain": [
       "<Figure size 640x480 with 1 Axes>"
      ]
     },
     "metadata": {},
     "output_type": "display_data"
    }
   ],
   "source": [
    "# Histogram for numerical columns (e.g., Age, Fare)\n",
    "df['Age'].hist(bins=30)\n",
    "plt.title('Age Distribution')\n",
    "plt.xlabel('Age')\n",
    "plt.ylabel('Count')\n",
    "plt.show()\n",
    "\n",
    "# Countplot for categorical columns (e.g., Survived, Sex)\n",
    "sns.countplot(x='Sex', data=df)\n",
    "plt.title('Passenger Gender Distribution')\n",
    "plt.show()"
   ]
  },
  {
   "cell_type": "markdown",
   "id": "370346d9-f14b-4f99-a1cf-e003d2c76a5c",
   "metadata": {},
   "source": [
    "### Observations from Data Exploration\n",
    "\n",
    "### **`Missing Values`**:  \n",
    "   - `Age`: 177 missing -> Will impute with median.  \n",
    "   - `Cabin`: 687 missing -> May drop this column.  \n",
    "### **`Outliers`**:  \n",
    "   - `Fare` has extreme values (max = 512).  \n",
    "### **`Categorical Variables`**:  \n",
    "   - `Sex`, `Embarked` need encoding for ML.  "
   ]
  },
  {
   "cell_type": "markdown",
   "id": "f1616474-f219-4300-90f3-a97118b056d9",
   "metadata": {},
   "source": [
    "### 2. **Handling Missing Values**"
   ]
  },
  {
   "cell_type": "code",
   "execution_count": 804,
   "id": "e77a72ed-2382-4853-9d0b-b3c3ecaf19c8",
   "metadata": {},
   "outputs": [],
   "source": [
    "# Drop columns with too many missing values or no predictive value (e.g., 'Cabin', 'PassengerId')\n",
    "df.drop(['Cabin', 'PassengerId', 'Ticket','Name'], axis=1,inplace=True)"
   ]
  },
  {
   "cell_type": "code",
   "execution_count": 805,
   "id": "0199365f-2c0e-453b-a3bc-a2ff67cb752f",
   "metadata": {},
   "outputs": [
    {
     "data": {
      "text/plain": [
       "Index(['Survived', 'Pclass', 'Sex', 'Age', 'SibSp', 'Parch', 'Fare',\n",
       "       'Embarked'],\n",
       "      dtype='object')"
      ]
     },
     "execution_count": 805,
     "metadata": {},
     "output_type": "execute_result"
    }
   ],
   "source": [
    "# Check remaining columns.\n",
    "df.columns "
   ]
  },
  {
   "cell_type": "code",
   "execution_count": 806,
   "id": "bb3daa98-2d8d-4c0e-ae70-2f7de121aa48",
   "metadata": {},
   "outputs": [],
   "source": [
    "# Fill missing 'Age' with median \n",
    "df['Age'] = df['Age'].fillna(df['Age'].median())  "
   ]
  },
  {
   "cell_type": "code",
   "execution_count": 807,
   "id": "379ec9de-fa91-4b67-97c9-d6cc17767432",
   "metadata": {},
   "outputs": [],
   "source": [
    "# Fill missing 'Embarked' with mode \n",
    "df['Embarked']=df['Embarked'].fillna(df['Embarked'].mode()[0])"
   ]
  },
  {
   "cell_type": "code",
   "execution_count": 808,
   "id": "bd70f220-1534-4856-814c-b327202b1d2a",
   "metadata": {},
   "outputs": [
    {
     "data": {
      "text/plain": [
       "Survived    0\n",
       "Pclass      0\n",
       "Sex         0\n",
       "Age         0\n",
       "SibSp       0\n",
       "Parch       0\n",
       "Fare        0\n",
       "Embarked    0\n",
       "dtype: int64"
      ]
     },
     "execution_count": 808,
     "metadata": {},
     "output_type": "execute_result"
    }
   ],
   "source": [
    "# To check missing values again\n",
    "df.isnull().sum()  "
   ]
  },
  {
   "cell_type": "code",
   "execution_count": 809,
   "id": "86dbe44f-c4c7-4a1d-85d4-0601df7afcbf",
   "metadata": {},
   "outputs": [
    {
     "data": {
      "image/png": "[encoded data removed]",
      "text/plain": [
       "<Figure size 640x480 with 1 Axes>"
      ]
     },
     "metadata": {},
     "output_type": "display_data"
    }
   ],
   "source": [
    "# Heatmap to confirm no missing values remain\n",
    "sns.heatmap(df.isnull(), cbar=False, cmap='viridis')\n",
    "plt.title(\"Missing Values After Cleaning\")\n",
    "plt.show()"
   ]
  },
  {
   "cell_type": "markdown",
   "id": "c36cc6b9-d7e5-4aa3-ba85-73e8de9ba206",
   "metadata": {},
   "source": [
    "### Observations from Handling Missing Values  \n",
    "\n",
    " ### **`Dropped Columns`**:  \n",
    "   - `Cabin`: Too many missing values.  \n",
    "   - `PassengerId`, `Ticket`: Irrelevant for analysis.  \n",
    "### **`Imputed Missing Values`**:  \n",
    "   - `Age`: Filled with median (`28.0`).  \n",
    "   - `Embarked`: Filled with mode (`'S'`).  "
   ]
  },
  {
   "cell_type": "markdown",
   "id": "f9d59756-2b07-443e-94ab-bb39754ad9ae",
   "metadata": {},
   "source": [
    "### 3. **Encoding Categorical Features**"
   ]
  },
  {
   "cell_type": "code",
   "execution_count": 810,
   "id": "b10f1e53-901a-4b2b-8a08-e2eb3c18312c",
   "metadata": {},
   "outputs": [
    {
     "name": "stdout",
     "output_type": "stream",
     "text": [
      "Categorical columns preview:\n",
      "      Sex Embarked  Pclass\n",
      "0    male        S       3\n",
      "1  female        C       1\n",
      "2  female        S       3\n",
      "3  female        S       1\n",
      "4    male        S       3\n"
     ]
    }
   ],
   "source": [
    "# List categorical columns in the dataset \n",
    "categorical_cols = ['Sex', 'Embarked', 'Pclass']  \n",
    "\n",
    "# Display first 5 rows to verify categorical data\n",
    "print(\"Categorical columns preview:\")\n",
    "print(df[categorical_cols].head())"
   ]
  },
  {
   "cell_type": "code",
   "execution_count": 811,
   "id": "516f331d-a050-449d-a030-5070687e97a5",
   "metadata": {},
   "outputs": [
    {
     "name": "stdout",
     "output_type": "stream",
     "text": [
      "After one-hot encoding:\n",
      "   Sex_male\n",
      "0         1\n",
      "1         0\n",
      "2         0\n",
      "3         0\n",
      "4         1\n",
      "   Embarked_Q  Embarked_S\n",
      "0           0           1\n",
      "1           0           0\n",
      "2           0           1\n",
      "3           0           1\n",
      "4           0           1\n"
     ]
    }
   ],
   "source": [
    "# One-hot encode 'Sex' and 'Embarked' \n",
    "# drop_first=True avoids multicollinearity (e.g., only 'Sex_male' needed instead of both 'Sex_male' and 'Sex_female')\n",
    "df = pd.get_dummies(df, columns=['Sex', 'Embarked'], drop_first=True,dtype=int)\n",
    "\n",
    "# Verify new binary columns\n",
    "print(\"After one-hot encoding:\")\n",
    "print(df.filter(like='Sex_').head())  # Check 'Sex_male'\n",
    "print(df.filter(like='Embarked_').head())  # Check 'Embarked_Q', 'Embarked_S'"
   ]
  },
  {
   "cell_type": "code",
   "execution_count": 812,
   "id": "f9da29d7-8bcf-43de-8665-39096a6e4c10",
   "metadata": {},
   "outputs": [
    {
     "name": "stdout",
     "output_type": "stream",
     "text": [
      "Unique values in 'Pclass' after encoding: [2 0 1]\n"
     ]
    }
   ],
   "source": [
    "# Label encode 'Pclass' (ordinal: 1st, 2nd, 3rd class have meaningful order)\n",
    "from sklearn.preprocessing import LabelEncoder\n",
    "le = LabelEncoder()\n",
    "\n",
    "# Convert 'Pclass' to numerical labels (0, 1, 2)\n",
    "df['Pclass'] = le.fit_transform(df['Pclass'])\n",
    "\n",
    "# Verify encoding\n",
    "print(\"Unique values in 'Pclass' after encoding:\", df['Pclass'].unique())"
   ]
  },
  {
   "cell_type": "code",
   "execution_count": 813,
   "id": "b5e7ecd3-b5fc-4224-9f4c-5940b49d0c95",
   "metadata": {},
   "outputs": [
    {
     "name": "stdout",
     "output_type": "stream",
     "text": [
      "Final DataFrame after encoding:\n",
      "   Survived  Pclass   Age  SibSp  Parch     Fare  Sex_male  Embarked_Q  \\\n",
      "0         0       2  22.0      1      0   7.2500         1           0   \n",
      "1         1       0  38.0      1      0  71.2833         0           0   \n",
      "2         1       2  26.0      0      0   7.9250         0           0   \n",
      "\n",
      "   Embarked_S  \n",
      "0           1  \n",
      "1           0  \n",
      "2           1  \n"
     ]
    }
   ],
   "source": [
    "# Display the first 3 rows to confirm all encoding worked\n",
    "print(\"Final DataFrame after encoding:\")\n",
    "print(df.head(3))"
   ]
  },
  {
   "cell_type": "markdown",
   "id": "f9659833-cacf-4884-889b-9129073bdb35",
   "metadata": {},
   "source": [
    "### Observations from Encoding Categorical Variables  \n",
    "\n",
    "### **`One-Hot Encoding`**  \n",
    "- Applied to: `Sex`, `Embarked` (nominal data).  \n",
    "- **Output Columns**:  \n",
    "  - `Sex_male`: `1` for male, `0` for female.  \n",
    "  - `Embarked_Q`, `Embarked_S`: Binary flags for Queenstown/Southampton (Cherbourg is baseline).  \n",
    "\n",
    "### **`Label Encoding`**  \n",
    "- Applied to: `Pclass` (ordinal data).  \n",
    "- **Mapping**:  \n",
    "  - `0`: 1st class, `1`: 2nd class, `2`: 3rd class.  "
   ]
  },
  {
   "cell_type": "markdown",
   "id": "93635ba3-9088-4427-b8fa-e2adfa674d4f",
   "metadata": {},
   "source": [
    "### **4. Feature Scaling and Outlier Treatment**"
   ]
  },
  {
   "cell_type": "code",
   "execution_count": 814,
   "id": "b9d47d8b-7063-4d9b-8784-e7fd5b1b6793",
   "metadata": {},
   "outputs": [
    {
     "name": "stdout",
     "output_type": "stream",
     "text": [
      "Before Scaling:\n",
      "              Age        Fare\n",
      "count  891.000000  891.000000\n",
      "mean    29.361582   32.204208\n",
      "std     13.019697   49.693429\n",
      "min      0.420000    0.000000\n",
      "25%     22.000000    7.910400\n",
      "50%     28.000000   14.454200\n",
      "75%     35.000000   31.000000\n",
      "max     80.000000  512.329200\n"
     ]
    }
   ],
   "source": [
    "# List numerical columns needing scaling (e.g., 'Age', 'Fare')\n",
    "numerical_cols = ['Age', 'Fare'] \n",
    "\n",
    "# Check current distributions (mean, min, max)\n",
    "print(\"Before Scaling:\")\n",
    "print(df[numerical_cols].describe())"
   ]
  },
  {
   "cell_type": "code",
   "execution_count": 815,
   "id": "5bc058d4-7a00-4a61-b539-c80b3e3ac4b2",
   "metadata": {},
   "outputs": [],
   "source": [
    "# Remove biologically impossible ages (e.g., Age ≤ 0 or > 120)\n",
    "df = df[(df['Age'] > 0) & (df['Age'] <= 120)]\n",
    "\n",
    "# Remove negative fares (if any)\n",
    "df = df[df['Fare'] >= 0]"
   ]
  },
  {
   "cell_type": "code",
   "execution_count": 816,
   "id": "60e6f65c-3f82-432a-b415-0e64aab0ef2f",
   "metadata": {},
   "outputs": [
    {
     "data": {
      "image/png": "[encoded data removed]",
      "text/plain": [
       "<Figure size 1000x400 with 2 Axes>"
      ]
     },
     "metadata": {},
     "output_type": "display_data"
    }
   ],
   "source": [
    "# Plot boxplots for scaled numerical features\n",
    "plt.figure(figsize=(10, 4))\n",
    "for i, col in enumerate(numerical_cols):\n",
    "    plt.subplot(1, len(numerical_cols), i+1)\n",
    "    sns.boxplot(y=df[col])\n",
    "    plt.title(f\"Boxplot of {col} before outlier treatment\")\n",
    "plt.tight_layout()\n",
    "plt.show()"
   ]
  },
  {
   "cell_type": "code",
   "execution_count": 817,
   "id": "dcbd9b19-b545-4b93-b4f5-dbf653cec482",
   "metadata": {},
   "outputs": [
    {
     "name": "stdout",
     "output_type": "stream",
     "text": [
      "Outliers in 'Fare': Values < -26.72 or > 65.63\n"
     ]
    }
   ],
   "source": [
    "# Calculate IQR for 'Fare' (for example)\n",
    "Q1 = df['Fare'].quantile(0.25)\n",
    "Q3 = df['Fare'].quantile(0.75)\n",
    "IQR = Q3 - Q1\n",
    "\n",
    "# Define outlier bounds\n",
    "lower_bound = Q1 - 1.5 * IQR\n",
    "upper_bound = Q3 + 1.5 * IQR\n",
    "\n",
    "print(f\"Outliers in 'Fare': Values < {lower_bound:.2f} or > {upper_bound:.2f}\")"
   ]
  },
  {
   "cell_type": "code",
   "execution_count": 818,
   "id": "cbf85e67-fee4-4204-b564-bd5b8384204c",
   "metadata": {},
   "outputs": [
    {
     "data": {
      "image/png": "[encoded data removed]",
      "text/plain": [
       "<Figure size 640x480 with 1 Axes>"
      ]
     },
     "metadata": {},
     "output_type": "display_data"
    }
   ],
   "source": [
    "# Proceed with outlier treatment \n",
    "Q1, Q3 = df['Age'].quantile([0.25, 0.75])\n",
    "IQR = Q3 - Q1\n",
    "upper_bound = Q3 + 1.5 * IQR\n",
    "lower_bound= Q1 - 1.5 * IQR\n",
    "df['Age'] = df['Age'].clip(upper=upper_bound,\n",
    "                           lower=lower_bound)  \n",
    "\n",
    "# Visualize\n",
    "sns.boxplot(data=df['Age'])\n",
    "plt.title(\"Age after Outlier Treatment\")\n",
    "plt.show()"
   ]
  },
  {
   "cell_type": "code",
   "execution_count": 819,
   "id": "9e8d0b0e-4e50-4a4d-b65f-549d08f8637c",
   "metadata": {},
   "outputs": [
    {
     "data": {
      "image/png": "[encoded data removed]",
      "text/plain": [
       "<Figure size 640x480 with 1 Axes>"
      ]
     },
     "metadata": {},
     "output_type": "display_data"
    }
   ],
   "source": [
    "# Outlier Treatment in Fare column\n",
    "# Step 1: Cap outliers \n",
    "upper_bound = Q3 + 1.5 * IQR\n",
    "lower_bound = Q1 - 1.5 * IQR\n",
    "df['Fare'] = df['Fare'].clip(upper=upper_bound,lower=lower_bound) \n",
    "\n",
    "# Step 2: Log-transform \n",
    "df['Fare'] = np.log1p(df['Fare'])  \n",
    "\n",
    "# Step 3: Verify Fare after Outlier Treatment\n",
    "sns.boxplot(data=df['Fare'])  \n",
    "plt.title(\"Fare After Outlier Treatment\")\n",
    "plt.show()"
   ]
  },
  {
   "cell_type": "code",
   "execution_count": 820,
   "id": "312caa3f-3c3e-4733-a359-07203acc5718",
   "metadata": {},
   "outputs": [
    {
     "name": "stdout",
     "output_type": "stream",
     "text": [
      "\n",
      "After Standardization:\n",
      "                Age          Fare\n",
      "count  8.910000e+02  8.910000e+02\n",
      "mean   2.392400e-17  1.221121e-16\n",
      "std    1.000562e+00  1.000562e+00\n",
      "min   -2.199638e+00 -2.226301e+00\n",
      "25%   -5.834321e-01 -9.549153e-01\n",
      "50%   -8.613809e-02 -2.057032e-01\n",
      "75%    4.940382e-01  7.845899e-01\n",
      "max    2.110244e+00  1.533780e+00\n"
     ]
    }
   ],
   "source": [
    "from sklearn.preprocessing import StandardScaler\n",
    "\n",
    "# Initialize scaler\n",
    "scaler = StandardScaler()\n",
    "\n",
    "# Scale selected columns (mean=0, std=1)\n",
    "df[numerical_cols] = scaler.fit_transform(df[numerical_cols])\n",
    "\n",
    "# Verify scaling\n",
    "print(\"\\nAfter Standardization:\")\n",
    "print(df[numerical_cols].describe())  \n",
    "\n",
    "# Keeping the data in scaled form for further use"
   ]
  },
  {
   "cell_type": "code",
   "execution_count": 821,
   "id": "c6c5b1a2-b9e8-4f9c-b9f6-3044564f9fdc",
   "metadata": {},
   "outputs": [
    {
     "data": {
      "text/html": [
       "<div>\n",
       "<style scoped>\n",
       "    .dataframe tbody tr th:only-of-type {\n",
       "        vertical-align: middle;\n",
       "    }\n",
       "\n",
       "    .dataframe tbody tr th {\n",
       "        vertical-align: top;\n",
       "    }\n",
       "\n",
       "    .dataframe thead th {\n",
       "        text-align: right;\n",
       "    }\n",
       "</style>\n",
       "<table border=\"1\" class=\"dataframe\">\n",
       "  <thead>\n",
       "    <tr style=\"text-align: right;\">\n",
       "      <th></th>\n",
       "      <th>Survived</th>\n",
       "      <th>Pclass</th>\n",
       "      <th>Age</th>\n",
       "      <th>SibSp</th>\n",
       "      <th>Parch</th>\n",
       "      <th>Fare</th>\n",
       "      <th>Sex_male</th>\n",
       "      <th>Embarked_Q</th>\n",
       "      <th>Embarked_S</th>\n",
       "    </tr>\n",
       "  </thead>\n",
       "  <tbody>\n",
       "    <tr>\n",
       "      <th>0</th>\n",
       "      <td>0</td>\n",
       "      <td>2</td>\n",
       "      <td>-0.583432</td>\n",
       "      <td>1</td>\n",
       "      <td>0</td>\n",
       "      <td>-1.059685</td>\n",
       "      <td>1</td>\n",
       "      <td>0</td>\n",
       "      <td>1</td>\n",
       "    </tr>\n",
       "    <tr>\n",
       "      <th>1</th>\n",
       "      <td>1</td>\n",
       "      <td>0</td>\n",
       "      <td>0.742685</td>\n",
       "      <td>1</td>\n",
       "      <td>0</td>\n",
       "      <td>1.533780</td>\n",
       "      <td>0</td>\n",
       "      <td>0</td>\n",
       "      <td>0</td>\n",
       "    </tr>\n",
       "    <tr>\n",
       "      <th>2</th>\n",
       "      <td>1</td>\n",
       "      <td>2</td>\n",
       "      <td>-0.251903</td>\n",
       "      <td>0</td>\n",
       "      <td>0</td>\n",
       "      <td>-0.952686</td>\n",
       "      <td>0</td>\n",
       "      <td>0</td>\n",
       "      <td>1</td>\n",
       "    </tr>\n",
       "    <tr>\n",
       "      <th>3</th>\n",
       "      <td>1</td>\n",
       "      <td>0</td>\n",
       "      <td>0.494038</td>\n",
       "      <td>1</td>\n",
       "      <td>0</td>\n",
       "      <td>1.499020</td>\n",
       "      <td>0</td>\n",
       "      <td>0</td>\n",
       "      <td>1</td>\n",
       "    </tr>\n",
       "    <tr>\n",
       "      <th>4</th>\n",
       "      <td>0</td>\n",
       "      <td>2</td>\n",
       "      <td>0.494038</td>\n",
       "      <td>0</td>\n",
       "      <td>0</td>\n",
       "      <td>-0.933763</td>\n",
       "      <td>1</td>\n",
       "      <td>0</td>\n",
       "      <td>1</td>\n",
       "    </tr>\n",
       "  </tbody>\n",
       "</table>\n",
       "</div>"
      ],
      "text/plain": [
       "   Survived  Pclass       Age  SibSp  Parch      Fare  Sex_male  Embarked_Q  \\\n",
       "0         0       2 -0.583432      1      0 -1.059685         1           0   \n",
       "1         1       0  0.742685      1      0  1.533780         0           0   \n",
       "2         1       2 -0.251903      0      0 -0.952686         0           0   \n",
       "3         1       0  0.494038      1      0  1.499020         0           0   \n",
       "4         0       2  0.494038      0      0 -0.933763         1           0   \n",
       "\n",
       "   Embarked_S  \n",
       "0           1  \n",
       "1           0  \n",
       "2           1  \n",
       "3           1  \n",
       "4           1  "
      ]
     },
     "execution_count": 821,
     "metadata": {},
     "output_type": "execute_result"
    }
   ],
   "source": [
    "# Dataset after cleaning and preprocessing(both age and fare are scaled so you can negative values in them )\n",
    "df.head()"
   ]
  },
  {
   "cell_type": "markdown",
   "id": "403e5760-4f93-4965-8393-612608635b4e",
   "metadata": {},
   "source": [
    "### Observations from Feature Scaling & Outliers  \n",
    "\n",
    "### **`Scaling`**  \n",
    "- **Method**: StandardScaler (mean=0, std=1).  \n",
    "- **Columns Scaled**: `Age`, `Fare`.  \n",
    "\n",
    "### **`Outlier Treatment`**  \n",
    "- **Method**: IQR-based capping.  \n",
    "- **Bounds for 'Fare'**: ±1.5*IQR.  "
   ]
  },
  {
   "cell_type": "code",
   "execution_count": null,
   "id": "8557fdcf-1b60-490d-b5f6-d185ae63b4e9",
   "metadata": {},
   "outputs": [],
   "source": []
  }
 ],
 "metadata": {
  "kernelspec": {
   "display_name": "Python 3 (ipykernel)",
   "language": "python",
   "name": "python3"
  },
  "language_info": {
   "codemirror_mode": {
    "name": "ipython",
    "version": 3
   },
   "file_extension": ".py",
   "mimetype": "text/x-python",
   "name": "python",
   "nbconvert_exporter": "python",
   "pygments_lexer": "ipython3",
   "version": "3.13.5"
  }
 },
 "nbformat": 4,
 "nbformat_minor": 5
}
